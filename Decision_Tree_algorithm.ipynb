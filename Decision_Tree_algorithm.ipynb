{
  "nbformat": 4,
  "nbformat_minor": 0,
  "metadata": {
    "colab": {
      "provenance": [],
      "authorship_tag": "ABX9TyOyvLPlTEAWSm+xVI3vmJOz",
      "include_colab_link": true
    },
    "kernelspec": {
      "name": "python3",
      "display_name": "Python 3"
    },
    "language_info": {
      "name": "python"
    }
  },
  "cells": [
    {
      "cell_type": "markdown",
      "metadata": {
        "id": "view-in-github",
        "colab_type": "text"
      },
      "source": [
        "<a href=\"https://colab.research.google.com/github/KayalvizhiT513/ID3-algorithm/blob/main/Decision_Tree_algorithm.ipynb\" target=\"_parent\"><img src=\"https://colab.research.google.com/assets/colab-badge.svg\" alt=\"Open In Colab\"/></a>"
      ]
    },
    {
      "cell_type": "code",
      "execution_count": 1,
      "metadata": {
        "id": "Tf1y40X6YPJf"
      },
      "outputs": [],
      "source": [
        "class TreeNode:\n",
        "    def __init__(self, label=None, attribute=None, branches=None):\n",
        "        self.label = label\n",
        "        self.attribute = attribute\n",
        "        self.branches = branches or {}\n",
        "\n",
        "    def get_label(self):\n",
        "        if self.label is not None:\n",
        "            return f\"Label: {self.label}\"\n",
        "        elif self.attribute is not None:\n",
        "            return f\"Attribute: {self.attribute}\"\n",
        "        else:\n",
        "            return \"\"\n"
      ]
    },
    {
      "cell_type": "code",
      "source": [
        "def id3(examples, target_attribute, attributes):\n",
        "    # Create a root node for the tree\n",
        "    root = TreeNode()\n",
        "\n",
        "    # If all examples are positive, return a single-node tree with label = '+'\n",
        "    if all(example[target_attribute] == 'yes' for example in examples):\n",
        "        root.label = 'yes'\n",
        "    # If all examples are negative, return a single-node tree with label = '-'\n",
        "    elif all(example[target_attribute] == 'no' for example in examples):\n",
        "        root.label = 'no'\n",
        "    # If attributes is empty, return a single-node tree with label = most common value of Targetattribute\n",
        "    elif not attributes:\n",
        "        root.label = most_common_value(examples, target_attribute)\n",
        "    else:\n",
        "        # Choose the best attribute to split on\n",
        "        best_attribute = choose_best_attribute(examples, target_attribute, attributes)\n",
        "        root.attribute = best_attribute\n",
        "\n",
        "        # Split the examples based on the chosen attribute\n",
        "        attribute_values = set(example[best_attribute] for example in examples)\n",
        "\n",
        "        for value in attribute_values:\n",
        "            subset = [example for example in examples if example[best_attribute] == value]\n",
        "\n",
        "            if not subset:\n",
        "                # If subset is empty, add a leaf node with label = most common value of Targetattribute\n",
        "                leaf = TreeNode(label=most_common_value(examples, target_attribute))\n",
        "                root.branches[value] = leaf\n",
        "                print(\"Leaf: \", leaf)\n",
        "            else:\n",
        "                # Recursively add subtree\n",
        "                subtree = id3(subset, target_attribute, [attr for attr in attributes if attr != best_attribute])\n",
        "                root.branches[value] = subtree\n",
        "\n",
        "    return root"
      ],
      "metadata": {
        "id": "045BHO8qazdF"
      },
      "execution_count": 2,
      "outputs": []
    },
    {
      "cell_type": "code",
      "source": [
        "def most_common_value(examples, target_attribute):\n",
        "    # Return the most common value of the target attribute in the given examples\n",
        "    positive_count = sum(1 for example in examples if example[target_attribute] == 'yes')\n",
        "    negative_count = sum(1 for example in examples if example[target_attribute] == 'no')\n",
        "    return 'yes' if positive_count >= negative_count else 'no'\n"
      ],
      "metadata": {
        "id": "ilErKAqda9-3"
      },
      "execution_count": 3,
      "outputs": []
    },
    {
      "cell_type": "code",
      "source": [
        "import math\n",
        "\n",
        "def calculate_entropy(examples, target_attribute):\n",
        "    # Calculate the entropy of a set of examples based on the target attribute\n",
        "    total_count = len(examples)\n",
        "    positive_count = sum(1 for example in examples if example[target_attribute] == 'yes')\n",
        "    negative_count = total_count - positive_count\n",
        "\n",
        "    if positive_count == 0 or negative_count == 0:\n",
        "        return 0  # Entropy is 0 if all examples are of the same class\n",
        "\n",
        "    positive_prob = positive_count / total_count\n",
        "    negative_prob = negative_count / total_count\n",
        "\n",
        "    entropy = - (positive_prob * math.log2(positive_prob) + negative_prob * math.log2(negative_prob))\n",
        "\n",
        "    return entropy\n",
        "\n",
        "def calculate_information_gain(examples, target_attribute, attribute):\n",
        "    # Calculate the Information Gain for a specific attribute\n",
        "    total_entropy = calculate_entropy(examples, target_attribute)\n",
        "\n",
        "    attribute_values = set(example[attribute] for example in examples)\n",
        "    weighted_entropy = 0\n",
        "\n",
        "    for value in attribute_values:\n",
        "        subset = [example for example in examples if example[attribute] == value]\n",
        "        subset_entropy = calculate_entropy(subset, target_attribute)\n",
        "        subset_weight = len(subset) / len(examples)\n",
        "        weighted_entropy += subset_weight * subset_entropy\n",
        "\n",
        "    information_gain = total_entropy - weighted_entropy\n",
        "    return information_gain\n",
        "\n",
        "def choose_best_attribute(examples, target_attribute, attributes):\n",
        "    # Choose the attribute with the highest Information Gain\n",
        "    best_attribute = None\n",
        "    max_information_gain = -1\n",
        "\n",
        "    for attribute in attributes:\n",
        "        information_gain = calculate_information_gain(examples, target_attribute, attribute)\n",
        "        if information_gain > max_information_gain:\n",
        "            max_information_gain = information_gain\n",
        "            best_attribute = attribute\n",
        "\n",
        "    return best_attribute\n"
      ],
      "metadata": {
        "id": "cwugQGTObC8y"
      },
      "execution_count": 4,
      "outputs": []
    },
    {
      "cell_type": "code",
      "source": [
        "def print_tree(node, indent=0):\n",
        "    if node.label is not None:\n",
        "        print(\"  \" * indent + f\"Label: {node.label}\")\n",
        "    else:\n",
        "        print(\"  \" * indent + f\"Attribute: {node.attribute}\")\n",
        "        for value, subtree in node.branches.items():\n",
        "            print(\"  \" * (indent + 1) + f\"Value: {value}\")\n",
        "            print_tree(subtree, indent + 2)\n"
      ],
      "metadata": {
        "id": "eLRJQjCHbgyd"
      },
      "execution_count": 5,
      "outputs": []
    },
    {
      "cell_type": "code",
      "source": [
        "def convert_to_treelib_tree(custom_node, treelib_tree, parent_id=None, edge_value=None):\n",
        "    label = custom_node.get_label()\n",
        "\n",
        "    if parent_id is None:\n",
        "        parent_id = treelib_tree.create_node(tag=label, data=label)\n",
        "    else:\n",
        "        treelib_tree.create_node(tag=label, data=label, parent=parent_id)\n",
        "\n",
        "    for edge_value, subtree in custom_node.branches.items():\n",
        "        convert_to_treelib_tree(subtree, treelib_tree, parent_id=parent_id, edge_value=edge_value)\n"
      ],
      "metadata": {
        "id": "Fjpm_qRU30lP"
      },
      "execution_count": 6,
      "outputs": []
    },
    {
      "cell_type": "code",
      "source": [
        "import graphviz\n",
        "\n",
        "def add_edges(graph, node, parent_name=None, parent_label=None, child_id=0):\n",
        "    current_name = f\"{str(node.label)}_{child_id}\" if node.label else f\"{str(node.attribute)}_{child_id}\"\n",
        "    graph.node(current_name, label=str(node.label) if node.label else str(node.attribute))\n",
        "\n",
        "    if parent_name is not None:\n",
        "        graph.edge(parent_name, current_name, label=parent_label)\n",
        "\n",
        "    child_id += 1\n",
        "    for branch_label, branch_node in node.branches.items():\n",
        "        add_edges(graph, branch_node, current_name, branch_label, child_id)\n",
        "\n"
      ],
      "metadata": {
        "id": "jDUhIEEQY4-v"
      },
      "execution_count": 71,
      "outputs": []
    },
    {
      "cell_type": "code",
      "source": [
        "def plot_flowchart(tree, name):\n",
        "    graph = graphviz.Digraph(format='png')\n",
        "    add_edges(graph, tree)\n",
        "    graph.render(f'flowchart {name}', format='png', cleanup=True)\n",
        "    graph.view()"
      ],
      "metadata": {
        "id": "oILLLbWYbq9K"
      },
      "execution_count": 72,
      "outputs": []
    },
    {
      "cell_type": "code",
      "source": [
        "# Example usage\n",
        "examples = [\n",
        "    {'A': 'Sunny', 'B': 'Hot', 'PlayTennis': 'yes'},\n",
        "    {'A': 'Sunny', 'B': 'Cool', 'PlayTennis': 'yes'},\n",
        "    {'A': 'Overcast', 'B': 'Hot', 'PlayTennis': 'yes'},\n",
        "    {'A': 'Rain', 'B': 'Mild', 'PlayTennis': 'no'},\n",
        "    {'A': 'Rain', 'B': 'Cool', 'PlayTennis': 'no'},\n",
        "    {'A': 'Overcast', 'B': 'Mild', 'PlayTennis': 'yes'},\n",
        "]"
      ],
      "metadata": {
        "id": "AMqn36Zneh8r"
      },
      "execution_count": 7,
      "outputs": []
    },
    {
      "cell_type": "code",
      "source": [
        "attributes = ['A', 'B']\n",
        "target_attribute = 'PlayTennis'\n",
        "\n",
        "tree = id3(examples, target_attribute, attributes)\n",
        "print_tree(tree)\n",
        "plot_flowchart(tree, \"ex1\")"
      ],
      "metadata": {
        "colab": {
          "base_uri": "https://localhost:8080/"
        },
        "id": "YqWV8bpebcHl",
        "outputId": "c1af9b2f-a629-492e-e1fb-c01473f43fb7"
      },
      "execution_count": 73,
      "outputs": [
        {
          "output_type": "stream",
          "name": "stdout",
          "text": [
            "Attribute: A\n",
            "  Value: Rain\n",
            "    Label: no\n",
            "  Value: Overcast\n",
            "    Label: yes\n",
            "  Value: Sunny\n",
            "    Label: yes\n"
          ]
        }
      ]
    },
    {
      "cell_type": "code",
      "source": [
        "import pandas as pd\n",
        "\n",
        "# Load data from Excel file\n",
        "file_path = '/content/training_example.xlsx'\n",
        "df = pd.read_excel(file_path)\n",
        "\n",
        "# Drop the first column\n",
        "df = df.drop(df.columns[0], axis=1)\n",
        "\n",
        "# Example attributes and target_attribute\n",
        "attributes = df.columns[:-1].tolist()\n",
        "target_attribute = df.columns[-1]\n",
        "\n",
        "# Example usage\n",
        "tree = id3(df.to_dict(orient='records'), target_attribute, attributes)\n",
        "print_tree(tree)\n",
        "plot_flowchart(tree, \"tennis\")"
      ],
      "metadata": {
        "colab": {
          "base_uri": "https://localhost:8080/"
        },
        "id": "jiZzScm6bmjt",
        "outputId": "d405ea6a-15f1-43fc-85aa-508807c5d1d4"
      },
      "execution_count": 74,
      "outputs": [
        {
          "output_type": "stream",
          "name": "stdout",
          "text": [
            "Attribute: Outlook\n",
            "  Value: Rain\n",
            "    Attribute: Wind\n",
            "      Value: Strong\n",
            "        Label: no\n",
            "      Value: Weak\n",
            "        Label: yes\n",
            "  Value: Overcast\n",
            "    Label: yes\n",
            "  Value: Sunny\n",
            "    Attribute: Humidity\n",
            "      Value: High\n",
            "        Label: no\n",
            "      Value: Normal\n",
            "        Label: yes\n"
          ]
        }
      ]
    },
    {
      "cell_type": "code",
      "source": [
        "import pandas as pd\n",
        "\n",
        "# Load data from Excel file\n",
        "file_path = '/content/restaurant.xlsx'\n",
        "df = pd.read_excel(file_path)\n",
        "\n",
        "# Drop the first column\n",
        "df = df.drop(df.columns[0], axis=1)\n",
        "\n",
        "# Example attributes and target_attribute\n",
        "attributes = df.columns[:-1].tolist()\n",
        "target_attribute = df.columns[-1]\n",
        "\n",
        "# Example usage\n",
        "tree = id3(df.to_dict(orient='records'), target_attribute, attributes)\n",
        "print_tree(tree)\n",
        "plot_flowchart(tree, \"WillWait\")"
      ],
      "metadata": {
        "colab": {
          "base_uri": "https://localhost:8080/"
        },
        "id": "jYXc_uB6hFsQ",
        "outputId": "8b1cd43f-5620-4820-f03c-2081e343dd56"
      },
      "execution_count": 75,
      "outputs": [
        {
          "output_type": "stream",
          "name": "stdout",
          "text": [
            "Attribute: Patrons\n",
            "  Value: Some\n",
            "    Label: yes\n",
            "  Value: None\n",
            "    Label: no\n",
            "  Value: Full\n",
            "    Attribute: Hungry\n",
            "      Value: No\n",
            "        Label: no\n",
            "      Value: Yes\n",
            "        Attribute: Type\n",
            "          Value: Thai\n",
            "            Attribute: Fri/Sat\n",
            "              Value: Yes\n",
            "                Label: yes\n",
            "              Value: No\n",
            "                Label: no\n",
            "          Value: Burger\n",
            "            Label: yes\n",
            "          Value: Italian\n",
            "            Label: no\n"
          ]
        }
      ]
    },
    {
      "cell_type": "code",
      "source": [
        "import networkx as nx\n",
        "import matplotlib.pyplot as plt"
      ],
      "metadata": {
        "id": "SX4F2OrYphfF"
      },
      "execution_count": 19,
      "outputs": []
    },
    {
      "cell_type": "code",
      "source": [],
      "metadata": {
        "id": "Lx9WWeGTbdLE"
      },
      "execution_count": null,
      "outputs": []
    }
  ]
}