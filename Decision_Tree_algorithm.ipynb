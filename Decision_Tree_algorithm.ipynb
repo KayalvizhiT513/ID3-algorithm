{
  "nbformat": 4,
  "nbformat_minor": 0,
  "metadata": {
    "colab": {
      "provenance": [],
      "authorship_tag": "ABX9TyPSvvsrqo9EeF77bg+pgUdo",
      "include_colab_link": true
    },
    "kernelspec": {
      "name": "python3",
      "display_name": "Python 3"
    },
    "language_info": {
      "name": "python"
    }
  },
  "cells": [
    {
      "cell_type": "markdown",
      "metadata": {
        "id": "view-in-github",
        "colab_type": "text"
      },
      "source": [
        "<a href=\"https://colab.research.google.com/github/KayalvizhiT513/ID3-algorithm/blob/main/Decision_Tree_algorithm.ipynb\" target=\"_parent\"><img src=\"https://colab.research.google.com/assets/colab-badge.svg\" alt=\"Open In Colab\"/></a>"
      ]
    },
    {
      "cell_type": "code",
      "execution_count": 16,
      "metadata": {
        "id": "Tf1y40X6YPJf"
      },
      "outputs": [],
      "source": [
        "class TreeNode:\n",
        "    def __init__(self, label=None, attribute=None, branches=None):\n",
        "        self.label = label\n",
        "        self.attribute = attribute\n",
        "        self.branches = branches or {}\n",
        "\n"
      ]
    },
    {
      "cell_type": "code",
      "source": [
        "def id3(examples, target_attribute, attributes):\n",
        "    # Create a root node for the tree\n",
        "    root = TreeNode()\n",
        "\n",
        "    # If all examples are positive, return a single-node tree with label = '+'\n",
        "    if all(example[target_attribute] == 'yes' for example in examples):\n",
        "        root.label = 'yes'\n",
        "    # If all examples are negative, return a single-node tree with label = '-'\n",
        "    elif all(example[target_attribute] == 'no' for example in examples):\n",
        "        root.label = 'no'\n",
        "    # If attributes is empty, return a single-node tree with label = most common value of Targetattribute\n",
        "    elif not attributes:\n",
        "        root.label = most_common_value(examples, target_attribute)\n",
        "    else:\n",
        "        # Choose the best attribute to split on\n",
        "        best_attribute = choose_best_attribute(examples, target_attribute, attributes)\n",
        "        root.attribute = best_attribute\n",
        "\n",
        "        # Split the examples based on the chosen attribute\n",
        "        attribute_values = set(example[best_attribute] for example in examples)\n",
        "\n",
        "        for value in attribute_values:\n",
        "            subset = [example for example in examples if example[best_attribute] == value]\n",
        "\n",
        "            if not subset:\n",
        "                # If subset is empty, add a leaf node with label = most common value of Targetattribute\n",
        "                leaf = TreeNode(label=most_common_value(examples, target_attribute))\n",
        "                root.branches[value] = leaf\n",
        "                print(\"Leaf: \", leaf)\n",
        "            else:\n",
        "                # Recursively add subtree\n",
        "                subtree = id3(subset, target_attribute, [attr for attr in attributes if attr != best_attribute])\n",
        "                root.branches[value] = subtree\n",
        "\n",
        "    return root"
      ],
      "metadata": {
        "id": "045BHO8qazdF"
      },
      "execution_count": 17,
      "outputs": []
    },
    {
      "cell_type": "code",
      "source": [
        "def most_common_value(examples, target_attribute):\n",
        "    # Return the most common value of the target attribute in the given examples\n",
        "    positive_count = sum(1 for example in examples if example[target_attribute] == 'yes')\n",
        "    negative_count = sum(1 for example in examples if example[target_attribute] == 'no')\n",
        "    return 'yes' if positive_count >= negative_count else 'no'\n"
      ],
      "metadata": {
        "id": "ilErKAqda9-3"
      },
      "execution_count": 18,
      "outputs": []
    },
    {
      "cell_type": "code",
      "source": [
        "import math\n",
        "\n",
        "def calculate_entropy(examples, target_attribute):\n",
        "    # Calculate the entropy of a set of examples based on the target attribute\n",
        "    total_count = len(examples)\n",
        "    positive_count = sum(1 for example in examples if example[target_attribute] == 'yes')\n",
        "    negative_count = total_count - positive_count\n",
        "\n",
        "    if positive_count == 0 or negative_count == 0:\n",
        "        return 0  # Entropy is 0 if all examples are of the same class\n",
        "\n",
        "    positive_prob = positive_count / total_count\n",
        "    negative_prob = negative_count / total_count\n",
        "\n",
        "    entropy = - (positive_prob * math.log2(positive_prob) + negative_prob * math.log2(negative_prob))\n",
        "\n",
        "    return entropy\n",
        "\n",
        "def calculate_information_gain(examples, target_attribute, attribute):\n",
        "    # Calculate the Information Gain for a specific attribute\n",
        "    total_entropy = calculate_entropy(examples, target_attribute)\n",
        "\n",
        "    attribute_values = set(example[attribute] for example in examples)\n",
        "    weighted_entropy = 0\n",
        "\n",
        "    for value in attribute_values:\n",
        "        subset = [example for example in examples if example[attribute] == value]\n",
        "        subset_entropy = calculate_entropy(subset, target_attribute)\n",
        "        subset_weight = len(subset) / len(examples)\n",
        "        weighted_entropy += subset_weight * subset_entropy\n",
        "\n",
        "    information_gain = total_entropy - weighted_entropy\n",
        "    return information_gain\n",
        "\n",
        "def choose_best_attribute(examples, target_attribute, attributes):\n",
        "    # Choose the attribute with the highest Information Gain\n",
        "    best_attribute = None\n",
        "    max_information_gain = -1\n",
        "\n",
        "    for attribute in attributes:\n",
        "        information_gain = calculate_information_gain(examples, target_attribute, attribute)\n",
        "        if information_gain > max_information_gain:\n",
        "            max_information_gain = information_gain\n",
        "            best_attribute = attribute\n",
        "\n",
        "    return best_attribute\n"
      ],
      "metadata": {
        "id": "cwugQGTObC8y"
      },
      "execution_count": 19,
      "outputs": []
    },
    {
      "cell_type": "code",
      "source": [
        "def print_tree(node, indent=0):\n",
        "    if node.label is not None:\n",
        "        print(\"  \" * indent + f\"Label: {node.label}\")\n",
        "    else:\n",
        "        print(\"  \" * indent + f\"Attribute: {node.attribute}\")\n",
        "        for value, subtree in node.branches.items():\n",
        "            print(\"  \" * (indent + 1) + f\"Value: {value}\")\n",
        "            print_tree(subtree, indent + 2)\n"
      ],
      "metadata": {
        "id": "eLRJQjCHbgyd"
      },
      "execution_count": 20,
      "outputs": []
    },
    {
      "cell_type": "code",
      "source": [
        "# Example usage\n",
        "examples = [\n",
        "    {'A': 'Sunny', 'B': 'Hot', 'PlayTennis': 'yes'},\n",
        "    {'A': 'Sunny', 'B': 'Cool', 'PlayTennis': 'yes'},\n",
        "    {'A': 'Overcast', 'B': 'Hot', 'PlayTennis': 'yes'},\n",
        "    {'A': 'Rain', 'B': 'Mild', 'PlayTennis': 'no'},\n",
        "    {'A': 'Rain', 'B': 'Cool', 'PlayTennis': 'no'},\n",
        "    {'A': 'Overcast', 'B': 'Mild', 'PlayTennis': 'yes'},\n",
        "]"
      ],
      "metadata": {
        "id": "AMqn36Zneh8r"
      },
      "execution_count": 21,
      "outputs": []
    },
    {
      "cell_type": "code",
      "source": [
        "attributes = ['A', 'B']\n",
        "target_attribute = 'PlayTennis'\n",
        "\n",
        "tree = id3(examples, target_attribute, attributes)\n",
        "print_tree(tree)"
      ],
      "metadata": {
        "colab": {
          "base_uri": "https://localhost:8080/"
        },
        "id": "YqWV8bpebcHl",
        "outputId": "84859265-8ba8-46b7-b1e4-defd499c4f28"
      },
      "execution_count": 22,
      "outputs": [
        {
          "output_type": "stream",
          "name": "stdout",
          "text": [
            "Attribute: A\n",
            "  Value: Overcast\n",
            "    Label: yes\n",
            "  Value: Rain\n",
            "    Label: no\n",
            "  Value: Sunny\n",
            "    Label: yes\n"
          ]
        }
      ]
    },
    {
      "cell_type": "code",
      "source": [
        "import pandas as pd\n",
        "\n",
        "# Load data from Excel file\n",
        "file_path = '/content/training_example.xlsx'\n",
        "df = pd.read_excel(file_path)\n",
        "\n",
        "# Drop the first column\n",
        "df = df.drop(df.columns[0], axis=1)\n",
        "\n",
        "# Example attributes and target_attribute\n",
        "attributes = df.columns[:-1].tolist()\n",
        "target_attribute = df.columns[-1]\n",
        "\n",
        "# Example usage\n",
        "tree = id3(df.to_dict(orient='records'), target_attribute, attributes)\n",
        "print_tree(tree)\n"
      ],
      "metadata": {
        "colab": {
          "base_uri": "https://localhost:8080/"
        },
        "id": "jiZzScm6bmjt",
        "outputId": "82cf49db-3c5b-44f6-acf4-73831e5e7585"
      },
      "execution_count": 23,
      "outputs": [
        {
          "output_type": "stream",
          "name": "stdout",
          "text": [
            "Attribute: Outlook\n",
            "  Value: Overcast\n",
            "    Label: yes\n",
            "  Value: Rain\n",
            "    Attribute: Wind\n",
            "      Value: Strong\n",
            "        Label: no\n",
            "      Value: Weak\n",
            "        Label: yes\n",
            "  Value: Sunny\n",
            "    Attribute: Humidity\n",
            "      Value: Normal\n",
            "        Label: yes\n",
            "      Value: High\n",
            "        Label: no\n"
          ]
        }
      ]
    },
    {
      "cell_type": "code",
      "source": [
        "import pandas as pd\n",
        "\n",
        "# Load data from Excel file\n",
        "file_path = '/content/restaurant.xlsx'\n",
        "df = pd.read_excel(file_path)\n",
        "\n",
        "# Drop the first column\n",
        "df = df.drop(df.columns[0], axis=1)\n",
        "\n",
        "# Example attributes and target_attribute\n",
        "attributes = df.columns[:-1].tolist()\n",
        "target_attribute = df.columns[-1]\n",
        "\n",
        "# Example usage\n",
        "tree = id3(df.to_dict(orient='records'), target_attribute, attributes)\n",
        "print_tree(tree)\n"
      ],
      "metadata": {
        "colab": {
          "base_uri": "https://localhost:8080/"
        },
        "id": "jYXc_uB6hFsQ",
        "outputId": "dad5a56b-b8af-414e-faa3-4a71176d5b62"
      },
      "execution_count": 24,
      "outputs": [
        {
          "output_type": "stream",
          "name": "stdout",
          "text": [
            "Attribute: Patrons\n",
            "  Value: Some\n",
            "    Label: yes\n",
            "  Value: None\n",
            "    Label: no\n",
            "  Value: Full\n",
            "    Attribute: Hungry\n",
            "      Value: Yes\n",
            "        Attribute: Type\n",
            "          Value: Burger\n",
            "            Label: yes\n",
            "          Value: Italian\n",
            "            Label: no\n",
            "          Value: Thai\n",
            "            Attribute: Fri/Sat\n",
            "              Value: Yes\n",
            "                Label: yes\n",
            "              Value: No\n",
            "                Label: no\n",
            "      Value: No\n",
            "        Label: no\n"
          ]
        }
      ]
    },
    {
      "cell_type": "code",
      "source": [],
      "metadata": {
        "id": "CUFqeFaEZGcU"
      },
      "execution_count": null,
      "outputs": []
    }
  ]
}